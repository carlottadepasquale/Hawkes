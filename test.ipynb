{
 "cells": [
  {
   "cell_type": "code",
   "execution_count": 1,
   "metadata": {
    "scrolled": true
   },
   "outputs": [],
   "source": [
    "%load_ext autoreload\n",
    "%autoreload 2\n",
    "%load_ext Cython\n",
    "\n",
    "from __future__ import division\n",
    "from __future__ import print_function\n",
    "\n",
    "import sys,time,datetime,copy,subprocess,itertools,pickle,warnings,json,gc,numbers\n",
    "\n",
    "import numpy as np\n",
    "import scipy as sp\n",
    "import pandas as pd\n",
    "from matplotlib import pyplot as plt\n",
    "import matplotlib as mpl\n",
    "\n",
    "import Hawkes as hk"
   ]
  },
  {
   "cell_type": "code",
   "execution_count": 2,
   "metadata": {},
   "outputs": [
    {
     "name": "stdout",
     "output_type": "stream",
     "text": [
      "mu     0     0.100300\n",
      "alpha  0     0.492921\n",
      "beta   0    10.047259\n",
      "dtype: float64\n",
      "-29044.498858665163\n",
      "\n",
      "--- expected output\n",
      "mu     0     0.100300\n",
      "alpha  0     0.492921\n",
      "beta   0    10.047259\n",
      "dtype: float64\n",
      "-29044.49885866516\n"
     ]
    }
   ],
   "source": [
    "\"\"\"\n",
    "para = {\"mu\":0.1, \"alpha\":0.5, \"beta\":10.0}\n",
    "itv = [0,100000]\n",
    "h1 = hk.simulator().set_kernel('exp').set_baseline('const').set_parameter(para)\n",
    "T = h1.simulate(itv)\n",
    "np.savetxt('./Data/test1.txt',T)\n",
    "\"\"\"\n",
    "\n",
    "itv = [0,100000]\n",
    "T = np.loadtxt('./Data/test1.txt')\n",
    "h2 = hk.estimator().set_kernel('exp').set_baseline('const')\n",
    "h2.fit(T,itv)\n",
    "print(h2.para)\n",
    "print(h2.L)\n",
    "print()\n",
    "\n",
    "print(\"\"\"--- expected output\n",
    "mu     0     0.100300\n",
    "alpha  0     0.492921\n",
    "beta   0    10.047259\n",
    "dtype: float64\n",
    "-29044.49885866516\"\"\")"
   ]
  },
  {
   "cell_type": "code",
   "execution_count": 3,
   "metadata": {},
   "outputs": [
    {
     "name": "stdout",
     "output_type": "stream",
     "text": [
      "mu     0     0.100146\n",
      "alpha  0     0.241877\n",
      "       1     0.264525\n",
      "beta   0     1.017910\n",
      "       1    18.971908\n",
      "dtype: float64\n",
      "-36930.924620952515\n",
      "\n",
      "--- expected output\n",
      "mu     0     0.100146\n",
      "alpha  0     0.241877\n",
      "       1     0.264525\n",
      "beta   0     1.017910\n",
      "       1    18.971908\n",
      "dtype: float64\n",
      "-36930.924620952515\n"
     ]
    }
   ],
   "source": [
    "\"\"\"\n",
    "para = {\"mu\":0.1, \"alpha\":[0.25,0.25], \"beta\":[1.0,20.0]}\n",
    "itv = [0,100000]\n",
    "h1 = hk.simulator().set_kernel('exp',num_exp=2).set_baseline('const').set_parameter(para)\n",
    "T = h1.simulate(itv)\n",
    "np.savetxt('./Data/test2.txt',T)\n",
    "\"\"\"\n",
    "\n",
    "itv = [0,100000]\n",
    "T = np.loadtxt('./Data/test2.txt')\n",
    "h2 = hk.estimator().set_kernel('exp',num_exp=2).set_baseline('const')\n",
    "h2.fit(T,itv)\n",
    "print(h2.para)\n",
    "print(h2.L)\n",
    "print()\n",
    "\n",
    "print(\"\"\"--- expected output\n",
    "mu     0     0.100146\n",
    "alpha  0     0.241877\n",
    "       1     0.264525\n",
    "beta   0     1.017910\n",
    "       1    18.971908\n",
    "dtype: float64\n",
    "-36930.924620952515\"\"\")"
   ]
  },
  {
   "cell_type": "code",
   "execution_count": 4,
   "metadata": {},
   "outputs": [
    {
     "name": "stdout",
     "output_type": "stream",
     "text": [
      "mu  0    0.099776\n",
      "k   0    0.423059\n",
      "p   0    1.919163\n",
      "c   0    0.906962\n",
      "dtype: float64\n",
      "-47636.33600119316\n",
      "\n",
      "--- expected output\n",
      "mu  0    0.099776\n",
      "k   0    0.423059\n",
      "p   0    1.919163\n",
      "c   0    0.906962\n",
      "dtype: float64\n",
      "-47636.336001193165\n"
     ]
    }
   ],
   "source": [
    "\"\"\"\n",
    "para = {\"mu\":0.1, \"k\":0.5,\"p\":2.0,\"c\":1.0}\n",
    "itv = [0,100000]\n",
    "h1 = hk.simulator().set_kernel('pow').set_baseline('const').set_parameter(para)\n",
    "T = h1.simulate(itv)\n",
    "np.savetxt('./Data/test3.txt',T)\n",
    "\"\"\"\n",
    "\n",
    "itv = [0,100000]\n",
    "T = np.loadtxt('./Data/test3.txt')\n",
    "h2 = hk.estimator().set_kernel('pow').set_baseline('const')\n",
    "h2.fit(T,itv)\n",
    "print(h2.para)\n",
    "print(h2.L)\n",
    "print()\n",
    "\n",
    "print(\"\"\"--- expected output\n",
    "mu  0    0.099776\n",
    "k   0    0.423059\n",
    "p   0    1.919163\n",
    "c   0    0.906962\n",
    "dtype: float64\n",
    "-47636.336001193165\"\"\")"
   ]
  },
  {
   "cell_type": "code",
   "execution_count": 4,
   "metadata": {},
   "outputs": [
    {
     "name": "stdout",
     "output_type": "stream",
     "text": [
      "mu     0    11.219357\n",
      "       1    19.433684\n",
      "       2    15.672260\n",
      "       3     3.651822\n",
      "       4     1.136541\n",
      "       5     9.467684\n",
      "alpha  0     0.166991\n",
      "beta   0    10.708538\n",
      "dtype: float64\n",
      "2064.6714021508496\n",
      "\n",
      "mu     0     3.286311\n",
      "       1    -0.055172\n",
      "       2     6.473691\n",
      "       3    -1.327060\n",
      "       4     0.249835\n",
      "       5    11.392068\n",
      "alpha  0     0.160945\n",
      "beta   0    10.368207\n",
      "dtype: float64\n",
      "2066.30987574014\n",
      "\n",
      "--- expected output\n",
      "mu     0    11.219269\n",
      "       1    19.433742\n",
      "       2    15.672241\n",
      "       3     3.651817\n",
      "       4     1.136552\n",
      "       5     9.467625\n",
      "alpha  0     0.166991\n",
      "beta   0    10.708514\n",
      "dtype: float64\n",
      "2064.671273176019\n",
      "\n",
      "mu     0     3.286057\n",
      "       1    -0.055010\n",
      "       2     6.473560\n",
      "       3    -1.326997\n",
      "       4     0.249923\n",
      "       5    11.391547\n",
      "alpha  0     0.160951\n",
      "beta   0    10.367967\n",
      "dtype: float64\n",
      "2066.3084557436696\n"
     ]
    },
    {
     "data": {
      "image/png": "[encoded data removed]",
      "text/plain": [
       "<Figure size 432x288 with 1 Axes>"
      ]
     },
     "metadata": {},
     "output_type": "display_data"
    }
   ],
   "source": [
    "\"\"\"\n",
    "para = {\"alpha\":0.2,\"beta\":10.0}\n",
    "mu_t = lambda x: 10.0 + 9.0*np.sin(2*np.pi*x/100)\n",
    "itv = [0,100]\n",
    "h1 = hk.simulator().set_kernel(\"exp\").set_baseline('custom',l_custom=mu_t).set_parameter(para)\n",
    "T = h1.simulate(itv)\n",
    "np.savetxt('./Data/test4.txt',T)\n",
    "\"\"\"\n",
    "\n",
    "itv = [0,100]\n",
    "T = np.loadtxt('./Data/test4.txt')\n",
    "\n",
    "# piecewise lienar model\n",
    "h2 = hk.estimator().set_kernel(\"exp\").set_baseline('plinear',num_basis=6)\n",
    "h2.fit(T,itv)\n",
    "print(h2.para)\n",
    "print(h2.L)\n",
    "print()\n",
    "\n",
    "# log-linear model\n",
    "h3 = hk.estimator().set_kernel(\"exp\").set_baseline('loglinear',num_basis=6)\n",
    "h3.fit(T,itv)\n",
    "print(h3.para)\n",
    "print(h3.L)\n",
    "print()\n",
    "\n",
    "print(\"\"\"--- expected output\n",
    "mu     0    11.219269\n",
    "       1    19.433742\n",
    "       2    15.672241\n",
    "       3     3.651817\n",
    "       4     1.136552\n",
    "       5     9.467625\n",
    "alpha  0     0.166991\n",
    "beta   0    10.708514\n",
    "dtype: float64\n",
    "2064.671273176019\n",
    "\n",
    "mu     0     3.286057\n",
    "       1    -0.055010\n",
    "       2     6.473560\n",
    "       3    -1.326997\n",
    "       4     0.249923\n",
    "       5    11.391547\n",
    "alpha  0     0.160951\n",
    "beta   0    10.367967\n",
    "dtype: float64\n",
    "2066.3084557436696\"\"\")\n",
    "\n",
    "mu_t = lambda x: 10.0 + 9.0*np.sin(2*np.pi*x/100)\n",
    "plt.plot(T,mu_t(T),\"k-\")\n",
    "plt.plot(T,h2.baseline.l(T),\"r-\")\n",
    "plt.plot(T,h3.baseline.l(T),\"b-\")\n",
    "pass"
   ]
  },
  {
   "cell_type": "code",
   "execution_count": null,
   "metadata": {},
   "outputs": [],
   "source": []
  }
 ],
 "metadata": {
  "kernelspec": {
   "display_name": "Python 3",
   "language": "python",
   "name": "python3"
  },
  "language_info": {
   "codemirror_mode": {
    "name": "ipython",
    "version": 3
   },
   "file_extension": ".py",
   "mimetype": "text/x-python",
   "name": "python",
   "nbconvert_exporter": "python",
   "pygments_lexer": "ipython3",
   "version": "3.5.7"
  }
 },
 "nbformat": 4,
 "nbformat_minor": 2
}
